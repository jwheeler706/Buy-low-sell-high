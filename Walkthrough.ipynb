{
 "cells": [
  {
   "cell_type": "markdown",
   "metadata": {},
   "source": [
    "<h1 align='center'> Buy low, sell high - a walkthrough </h1>"
   ]
  },
  {
   "cell_type": "markdown",
   "metadata": {},
   "source": [
    "Why hello there! Ready to make a shitload of money on the stock market? Good. Here is how you do it."
   ]
  },
  {
   "cell_type": "markdown",
   "metadata": {},
   "source": [
    "## The Classes"
   ]
  },
  {
   "cell_type": "markdown",
   "metadata": {},
   "source": [
    "This framework is made up of two classes of Python objects: Portfolios and Stocks. \n",
    "\n",
    "- A <b>Portfolio</b> object is defined by its capital and Stocks. \n",
    "  - Capital can be used to purchase shares of a Stock object and Stock shares can be sold for capital. \n",
    "  - Portfolio objects contain a ledger that records details from each transactions.\n",
    "- A <b>Stock</b> object is defined by its ticker symbol. \n",
    "  - When a stock is added to a portfolio, an instance of a AlphaVantage TimeSeries object is created and both daily and intradaily data is gathered.\n",
    "  - The gathered data contains the open, close, high, and low values per share and the total trade volume and is used to define the buy and sell prices for a Stock at a particular time."
   ]
  },
  {
   "cell_type": "markdown",
   "metadata": {},
   "source": [
    "## Examining the data"
   ]
  },
  {
   "cell_type": "markdown",
   "metadata": {},
   "source": [
    "Before we dive into buying and selling stock, let's take a minute to understand the data the we are using. Each Stock object comes with a large amount of data that can be manipulated and aggregated at different intervals, so let's explore a little bit!"
   ]
  },
  {
   "cell_type": "markdown",
   "metadata": {},
   "source": [
    "In order to start creating objects and calling functions, we need to import the classes from the python file."
   ]
  },
  {
   "cell_type": "code",
   "execution_count": null,
   "metadata": {},
   "outputs": [],
   "source": [
    "from classes import *"
   ]
  },
  {
   "cell_type": "markdown",
   "metadata": {},
   "source": [
    "Let's create a Stock object and gather it's data. Normally, this will happen behind the scenes when a Stock is added to a Portfolio, but let's go through the details here."
   ]
  },
  {
   "cell_type": "code",
   "execution_count": null,
   "metadata": {},
   "outputs": [],
   "source": [
    "Google = Stock('GOOGL')\n",
    "Google.gatherDaily()\n",
    "Google.gatherIntra()"
   ]
  },
  {
   "cell_type": "markdown",
   "metadata": {},
   "source": [
    "Both of the gather functions have parameters that can be adjusted. Calling the function with no parameters will use the defaults.\n",
    "\n",
    "- <b>gatherDaily(outputsize)</b>: Returns a Pandas DataFrame with open, close, high, low, and trade volume across days\n",
    "   - <b>outputsize</b> defines how much data is returned: \"compact\" (default) returns the last 100 datapoints, \"full\" returns all available data\n",
    "- <b>gatherIntra(interval, outputsize)</b>: Returns a Pandas DataFrame with open, close, high, low data, and trade volume within a day at the given interval\n",
    "   - <b>interval</b> defines time difference between datapoints: '1min', '5min', '15min', '30min' (default), '60min'\n",
    "   - <b>outputsize</b> defines how much data is returned: \"compact\" (default) returns the last 100 datapoints, \"full\" returns all available data"
   ]
  },
  {
   "cell_type": "markdown",
   "metadata": {},
   "source": [
    "These DataFrames are stored as variables on the Stock object:"
   ]
  },
  {
   "cell_type": "code",
   "execution_count": null,
   "metadata": {},
   "outputs": [],
   "source": [
    "Google.daily.head()"
   ]
  },
  {
   "cell_type": "code",
   "execution_count": null,
   "metadata": {},
   "outputs": [],
   "source": [
    "Google.intra.head()"
   ]
  },
  {
   "cell_type": "markdown",
   "metadata": {},
   "source": [
    "These DataFrames are used to determine the buy/sell prices at a particular time, among other things. Each Stock has functions <b>buyPrice</b> and <b>sellPrice</b> that will return the price for a given index. You can pass in an integer index (e.g., 0 for the first line in the daily dataset) or an actual date/time (e.g. '2020-07-28 15:30:00 for the first line in the intra dataset). \n",
    "\n",
    "The value returned is <u>the open price for the next index in the dataframe</u>."
   ]
  },
  {
   "cell_type": "code",
   "execution_count": null,
   "metadata": {},
   "outputs": [],
   "source": [
    "Google.sellPrice(0, isDate=0, isDaily=1)"
   ]
  },
  {
   "cell_type": "code",
   "execution_count": null,
   "metadata": {},
   "outputs": [],
   "source": [
    "Google.buyPrice('2020-07-28 15:30:00', isDate=1, isDaily=0)"
   ]
  },
  {
   "cell_type": "markdown",
   "metadata": {},
   "source": [
    "There is a similar function for trade volume:"
   ]
  },
  {
   "cell_type": "code",
   "execution_count": null,
   "metadata": {},
   "outputs": [],
   "source": [
    "Google.volume(3, isDate=0, isDaily=0)"
   ]
  },
  {
   "cell_type": "markdown",
   "metadata": {},
   "source": [
    "## Creating a portfolio and buying stock"
   ]
  },
  {
   "cell_type": "markdown",
   "metadata": {},
   "source": [
    "Okay, now that we have an understanding of what we're working with, let's get started. \n",
    "\n",
    "The first thing we will need to do is create an instance of a Portfolio. I've been watching a bunch of Archer lately, so let's set Sterling up with a new portfolio using the $100k his mommy gave him."
   ]
  },
  {
   "cell_type": "code",
   "execution_count": null,
   "metadata": {},
   "outputs": [],
   "source": [
    "Archer = Portfolio(100000)"
   ]
  },
  {
   "cell_type": "markdown",
   "metadata": {},
   "source": [
    "Now that we have a portfolio, we can buy some stock! \n",
    "\n",
    "Sterling would love to pour his money into his favorite things: booze and hookers. Thankfully, we were able to satisfy his urges and convince him otherwise by using Woodhouse's smack needles to inject 8 gils of liquor right into his veins and finding the cheapiest, dirtiest whore we could find off of the street. I'm talking Frank Reynolds level dirty whore. But I digress..."
   ]
  },
  {
   "cell_type": "markdown",
   "metadata": {},
   "source": [
    "Archer decided to put his money into gold, water, and keep a bit left as available captial. \n",
    "\n",
    "Now, we can choose to buy stocks by either specifying the number of shares or the dollar amount. This is driven by the variable <b>isShares</b>, which defaults to number of shares. For now, we will split Archer's portfolio out by dollar amount, with 40k going to GOLD, 40k going to AWK, and 20k remaining as capital."
   ]
  },
  {
   "cell_type": "code",
   "execution_count": null,
   "metadata": {},
   "outputs": [],
   "source": [
    "Archer.buy('GOLD', 40000, isShares=0)"
   ]
  },
  {
   "cell_type": "code",
   "execution_count": null,
   "metadata": {},
   "outputs": [],
   "source": [
    "Archer.buy('AWK', 40000, isShares=0)"
   ]
  },
  {
   "cell_type": "markdown",
   "metadata": {},
   "source": [
    "We can see Archer's current stock holdings and capital with the <b>shares</b> and <b>capital</b> variables:"
   ]
  },
  {
   "cell_type": "code",
   "execution_count": null,
   "metadata": {},
   "outputs": [],
   "source": [
    "Archer.shares"
   ]
  },
  {
   "cell_type": "code",
   "execution_count": null,
   "metadata": {},
   "outputs": [],
   "source": [
    "Archer.capital"
   ]
  },
  {
   "cell_type": "markdown",
   "metadata": {},
   "source": [
    "Additionally, you can see a history of Archer's transactions with the function <b>getLedger</b>, which returns a list of transactions in the form of a Pandas DataFrame:"
   ]
  },
  {
   "cell_type": "code",
   "execution_count": null,
   "metadata": {},
   "outputs": [],
   "source": [
    "Archer.getLedger()"
   ]
  },
  {
   "cell_type": "markdown",
   "metadata": {},
   "source": [
    "On thing you might notice is that the dates are different in the ledger above, even though we bought the stock at the same time. This is because when we called the <b>buy</b> function, <u>we did not specify a date</u>. If no date is specified, the stock is purchased at the open price of the first point in the dataset. Our two stocks have a different first entry in their datasets, so the dates are different in the ledger."
   ]
  },
  {
   "cell_type": "markdown",
   "metadata": {},
   "source": [
    "## Selling shares"
   ]
  },
  {
   "cell_type": "markdown",
   "metadata": {},
   "source": [
    "Now, Mr. Archer is getting a little impatient and would like his shares liquidated so that we can go buy a bunch of sand to rub in Woodhouse's eyes. What kind of sand, you ask? Coarse.]]\n",
    "\n",
    "We can get rid of Sterling's stock with the <b>sell</b> function. In the sell function, you can specify the stock you want to sell, the amount in shares or dollars, and the index/date/time in which to sell. If you don't put an amount all holdings are sold and if you don't put in an index the last one is used."
   ]
  },
  {
   "cell_type": "code",
   "execution_count": null,
   "metadata": {},
   "outputs": [],
   "source": [
    "Archer.sell('GOLD')"
   ]
  },
  {
   "cell_type": "code",
   "execution_count": null,
   "metadata": {},
   "outputs": [],
   "source": [
    "Archer.sell('AWK')"
   ]
  },
  {
   "cell_type": "code",
   "execution_count": null,
   "metadata": {},
   "outputs": [],
   "source": [
    "Archer.capital"
   ]
  },
  {
   "cell_type": "code",
   "execution_count": null,
   "metadata": {},
   "outputs": [],
   "source": [
    "Archer.getLedger()"
   ]
  },
  {
   "cell_type": "markdown",
   "metadata": {},
   "source": [
    "So, we can see that our superagent spy actually made money! What a surprise..."
   ]
  },
  {
   "cell_type": "markdown",
   "metadata": {},
   "source": [
    "## Come back next time for instructions on how to use this framework to implement an algorithm!"
   ]
  }
 ],
 "metadata": {
  "kernelspec": {
   "display_name": "Python 3",
   "language": "python",
   "name": "python3"
  },
  "language_info": {
   "codemirror_mode": {
    "name": "ipython",
    "version": 3
   },
   "file_extension": ".py",
   "mimetype": "text/x-python",
   "name": "python",
   "nbconvert_exporter": "python",
   "pygments_lexer": "ipython3",
   "version": "3.6.6"
  }
 },
 "nbformat": 4,
 "nbformat_minor": 2
}
