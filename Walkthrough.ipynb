{
 "cells": [
  {
   "cell_type": "markdown",
   "metadata": {},
   "source": [
    "<h1 align='center'> Buy low, sell high - a walkthrough </h1>"
   ]
  },
  {
   "cell_type": "markdown",
   "metadata": {},
   "source": [
    "Why hello there! Ready to make a shitload of money on the stock market? Good. Here is how you do it."
   ]
  },
  {
   "cell_type": "markdown",
   "metadata": {},
   "source": [
    "## The Classes"
   ]
  },
  {
   "cell_type": "markdown",
   "metadata": {},
   "source": [
    "This framework is made up of two classes of Python objects: Portfolios and Stocks. \n",
    "\n",
    "- A <b>Portfolio</b> object is defined by its capital and Stocks. \n",
    "  - Capital can be used to purchase shares of a Stock object and Stock shares can be sold for capital. \n",
    "  - Portfolio objects contain a ledger that records details from each transactions.\n",
    "- A <b>Stock</b> object is defined by its ticker symbol. \n",
    "  - When a stock is added to a portfolio, an instance of a AlphaVantage TimeSeries object is created and both daily and intradaily data is gathered.\n",
    "  - The gathered data contains the open, close, high, and low values per share and the total trade volume and is used to define the buy and sell prices for a Stock at a particular time."
   ]
  },
  {
   "cell_type": "markdown",
   "metadata": {},
   "source": [
    "## Examining the data"
   ]
  },
  {
   "cell_type": "markdown",
   "metadata": {},
   "source": [
    "Before we dive into buying and selling stock, let's take a minute to understand the data the we are using. Each Stock object comes with a large amount of data that can be manipulated and aggregated at different intervals, so let's explore a little bit!"
   ]
  },
  {
   "cell_type": "markdown",
   "metadata": {},
   "source": [
    "In order to start creating objects and calling functions, we need to import the classes from the python file."
   ]
  },
  {
   "cell_type": "code",
   "execution_count": 1,
   "metadata": {},
   "outputs": [],
   "source": [
    "from classes import *"
   ]
  },
  {
   "cell_type": "markdown",
   "metadata": {},
   "source": [
    "Let's create a Stock object and gather it's data. Normally, this will happen behind the scenes when a Stock is added to a Portfolio, but let's go through the details here."
   ]
  },
  {
   "cell_type": "code",
   "execution_count": 2,
   "metadata": {},
   "outputs": [],
   "source": [
    "Google = Stock('GOOGL')\n",
    "Google.gatherDaily()\n",
    "Google.gatherIntra()"
   ]
  },
  {
   "cell_type": "markdown",
   "metadata": {},
   "source": [
    "Both of the gather functions have parameters that can be adjusted. Calling the function with no parameters will use the defaults.\n",
    "\n",
    "- <b>gatherDaily(outputsize)</b>: Returns a Pandas DataFrame with open, close, high, low, and trade volume across days\n",
    "   - <b>outputsize</b> defines how much data is returned: \"compact\" (default) returns the last 100 datapoints, \"full\" returns all available data\n",
    "- <b>gatherIntra(interval, outputsize)</b>: Returns a Pandas DataFrame with open, close, high, low data, and trade volume within a day at the given interval\n",
    "   - <b>interval</b> defines time difference between datapoints: '1min', '5min', '15min', '30min' (default), '60min'\n",
    "   - <b>outputsize</b> defines how much data is returned: \"compact\" (default) returns the last 100 datapoints, \"full\" returns all available data"
   ]
  },
  {
   "cell_type": "markdown",
   "metadata": {},
   "source": [
    "These DataFrames are stored as variables on the Stock object:"
   ]
  },
  {
   "cell_type": "code",
   "execution_count": 3,
   "metadata": {},
   "outputs": [
    {
     "data": {
      "text/html": [
       "<div>\n",
       "<style scoped>\n",
       "    .dataframe tbody tr th:only-of-type {\n",
       "        vertical-align: middle;\n",
       "    }\n",
       "\n",
       "    .dataframe tbody tr th {\n",
       "        vertical-align: top;\n",
       "    }\n",
       "\n",
       "    .dataframe thead th {\n",
       "        text-align: right;\n",
       "    }\n",
       "</style>\n",
       "<table border=\"1\" class=\"dataframe\">\n",
       "  <thead>\n",
       "    <tr style=\"text-align: right;\">\n",
       "      <th></th>\n",
       "      <th>1. open</th>\n",
       "      <th>2. high</th>\n",
       "      <th>3. low</th>\n",
       "      <th>4. close</th>\n",
       "      <th>5. volume</th>\n",
       "    </tr>\n",
       "    <tr>\n",
       "      <th>date</th>\n",
       "      <th></th>\n",
       "      <th></th>\n",
       "      <th></th>\n",
       "      <th></th>\n",
       "      <th></th>\n",
       "    </tr>\n",
       "  </thead>\n",
       "  <tbody>\n",
       "    <tr>\n",
       "      <th>2020-03-20</th>\n",
       "      <td>1130.90</td>\n",
       "      <td>1138.48</td>\n",
       "      <td>1062.10</td>\n",
       "      <td>1068.21</td>\n",
       "      <td>4143897.0</td>\n",
       "    </tr>\n",
       "    <tr>\n",
       "      <th>2020-03-23</th>\n",
       "      <td>1056.37</td>\n",
       "      <td>1066.91</td>\n",
       "      <td>1008.87</td>\n",
       "      <td>1054.13</td>\n",
       "      <td>4183629.0</td>\n",
       "    </tr>\n",
       "    <tr>\n",
       "      <th>2020-03-24</th>\n",
       "      <td>1103.98</td>\n",
       "      <td>1133.33</td>\n",
       "      <td>1086.43</td>\n",
       "      <td>1130.01</td>\n",
       "      <td>3623435.0</td>\n",
       "    </tr>\n",
       "    <tr>\n",
       "      <th>2020-03-25</th>\n",
       "      <td>1124.58</td>\n",
       "      <td>1146.17</td>\n",
       "      <td>1083.01</td>\n",
       "      <td>1101.62</td>\n",
       "      <td>4516162.0</td>\n",
       "    </tr>\n",
       "    <tr>\n",
       "      <th>2020-03-26</th>\n",
       "      <td>1114.72</td>\n",
       "      <td>1171.48</td>\n",
       "      <td>1092.03</td>\n",
       "      <td>1162.92</td>\n",
       "      <td>3834422.0</td>\n",
       "    </tr>\n",
       "  </tbody>\n",
       "</table>\n",
       "</div>"
      ],
      "text/plain": [
       "            1. open  2. high   3. low  4. close  5. volume\n",
       "date                                                      \n",
       "2020-03-20  1130.90  1138.48  1062.10   1068.21  4143897.0\n",
       "2020-03-23  1056.37  1066.91  1008.87   1054.13  4183629.0\n",
       "2020-03-24  1103.98  1133.33  1086.43   1130.01  3623435.0\n",
       "2020-03-25  1124.58  1146.17  1083.01   1101.62  4516162.0\n",
       "2020-03-26  1114.72  1171.48  1092.03   1162.92  3834422.0"
      ]
     },
     "execution_count": 3,
     "metadata": {},
     "output_type": "execute_result"
    }
   ],
   "source": [
    "Google.daily.head()"
   ]
  },
  {
   "cell_type": "code",
   "execution_count": 4,
   "metadata": {},
   "outputs": [
    {
     "data": {
      "text/html": [
       "<div>\n",
       "<style scoped>\n",
       "    .dataframe tbody tr th:only-of-type {\n",
       "        vertical-align: middle;\n",
       "    }\n",
       "\n",
       "    .dataframe tbody tr th {\n",
       "        vertical-align: top;\n",
       "    }\n",
       "\n",
       "    .dataframe thead th {\n",
       "        text-align: right;\n",
       "    }\n",
       "</style>\n",
       "<table border=\"1\" class=\"dataframe\">\n",
       "  <thead>\n",
       "    <tr style=\"text-align: right;\">\n",
       "      <th></th>\n",
       "      <th>1. open</th>\n",
       "      <th>2. high</th>\n",
       "      <th>3. low</th>\n",
       "      <th>4. close</th>\n",
       "      <th>5. volume</th>\n",
       "    </tr>\n",
       "    <tr>\n",
       "      <th>date</th>\n",
       "      <th></th>\n",
       "      <th></th>\n",
       "      <th></th>\n",
       "      <th></th>\n",
       "      <th></th>\n",
       "    </tr>\n",
       "  </thead>\n",
       "  <tbody>\n",
       "    <tr>\n",
       "      <th>2020-08-04 04:30:00</th>\n",
       "      <td>1483.0</td>\n",
       "      <td>1483.0</td>\n",
       "      <td>1483.0</td>\n",
       "      <td>1483.00</td>\n",
       "      <td>171.0</td>\n",
       "    </tr>\n",
       "    <tr>\n",
       "      <th>2020-08-04 07:30:00</th>\n",
       "      <td>1480.0</td>\n",
       "      <td>1480.0</td>\n",
       "      <td>1480.0</td>\n",
       "      <td>1480.00</td>\n",
       "      <td>687.0</td>\n",
       "    </tr>\n",
       "    <tr>\n",
       "      <th>2020-08-04 08:30:00</th>\n",
       "      <td>1483.0</td>\n",
       "      <td>1483.0</td>\n",
       "      <td>1478.0</td>\n",
       "      <td>1478.00</td>\n",
       "      <td>779.0</td>\n",
       "    </tr>\n",
       "    <tr>\n",
       "      <th>2020-08-04 09:00:00</th>\n",
       "      <td>1476.0</td>\n",
       "      <td>1476.0</td>\n",
       "      <td>1476.0</td>\n",
       "      <td>1476.00</td>\n",
       "      <td>145.0</td>\n",
       "    </tr>\n",
       "    <tr>\n",
       "      <th>2020-08-04 09:30:00</th>\n",
       "      <td>1480.0</td>\n",
       "      <td>1486.1</td>\n",
       "      <td>1479.0</td>\n",
       "      <td>1484.17</td>\n",
       "      <td>7749.0</td>\n",
       "    </tr>\n",
       "  </tbody>\n",
       "</table>\n",
       "</div>"
      ],
      "text/plain": [
       "                     1. open  2. high  3. low  4. close  5. volume\n",
       "date                                                              \n",
       "2020-08-04 04:30:00   1483.0   1483.0  1483.0   1483.00      171.0\n",
       "2020-08-04 07:30:00   1480.0   1480.0  1480.0   1480.00      687.0\n",
       "2020-08-04 08:30:00   1483.0   1483.0  1478.0   1478.00      779.0\n",
       "2020-08-04 09:00:00   1476.0   1476.0  1476.0   1476.00      145.0\n",
       "2020-08-04 09:30:00   1480.0   1486.1  1479.0   1484.17     7749.0"
      ]
     },
     "execution_count": 4,
     "metadata": {},
     "output_type": "execute_result"
    }
   ],
   "source": [
    "Google.intra.head()"
   ]
  },
  {
   "cell_type": "markdown",
   "metadata": {},
   "source": [
    "These DataFrames are used to determine the buy/sell prices at a particular time, among other things. Each Stock has functions <b>buyPrice</b> and <b>sellPrice</b> that will return the price for a given index. You can pass in an integer index (e.g., 0 for the first line in the daily dataset) or an actual date/time (e.g. '2020-07-28 15:30:00 for the first line in the intra dataset). \n",
    "\n",
    "The value returned is <u>the open price for the next index in the dataframe</u>."
   ]
  },
  {
   "cell_type": "code",
   "execution_count": 5,
   "metadata": {},
   "outputs": [
    {
     "name": "stdout",
     "output_type": "stream",
     "text": [
      "The first sell price for Google is 1480.0\n"
     ]
    }
   ],
   "source": [
    "sellPrice = Google.sellPrice(0, isDate=0)\n",
    "\n",
    "print(\"The first sell price for Google is\", sellPrice)"
   ]
  },
  {
   "cell_type": "code",
   "execution_count": 6,
   "metadata": {},
   "outputs": [
    {
     "name": "stdout",
     "output_type": "stream",
     "text": [
      "The first date in the dateset is 2020-08-04 04:30:00\n",
      "The buy price for Google on 2020-08-04 04:30:00 is 1480.0\n"
     ]
    }
   ],
   "source": [
    "datetime = Google.intra.index[0]\n",
    "buyPrice = Google.buyPrice(datetime, isDate=1)\n",
    "\n",
    "print('The first date in the dateset is', datetime)\n",
    "print('The buy price for Google on {} is {}'.format(datetime,buyPrice))"
   ]
  },
  {
   "cell_type": "markdown",
   "metadata": {},
   "source": [
    "There is a similar function for trade volume:"
   ]
  },
  {
   "cell_type": "code",
   "execution_count": 7,
   "metadata": {},
   "outputs": [
    {
     "name": "stdout",
     "output_type": "stream",
     "text": [
      "The total volume for the third row in the dataset is 145.0\n"
     ]
    }
   ],
   "source": [
    "volume = Google.volume(3, isDate=0)\n",
    "\n",
    "print('The total volume for the third row in the dataset is', volume)"
   ]
  },
  {
   "cell_type": "markdown",
   "metadata": {},
   "source": [
    "## Creating a portfolio and buying stock"
   ]
  },
  {
   "cell_type": "markdown",
   "metadata": {},
   "source": [
    "Okay, now that we have an understanding of what we're working with, let's get started. \n",
    "\n",
    "The first thing we will need to do is create an instance of a Portfolio. I've been watching a bunch of Archer lately, so let's set Sterling up with a new portfolio using the $100k his mommy gave him."
   ]
  },
  {
   "cell_type": "code",
   "execution_count": 8,
   "metadata": {},
   "outputs": [],
   "source": [
    "Archer = Portfolio(100000)"
   ]
  },
  {
   "cell_type": "markdown",
   "metadata": {},
   "source": [
    "Now that we have a portfolio, we can buy some stock! \n",
    "\n",
    "Sterling would love to pour his money into his favorite things: booze and hookers. Thankfully, we were able to satisfy his urges and convince him otherwise by using Woodhouse's smack needles to inject 8 gils of liquor right into his veins and finding the cheapiest, dirtiest whore we could find off of the street. I'm talking Frank Reynolds level dirty whore. But I digress..."
   ]
  },
  {
   "cell_type": "markdown",
   "metadata": {},
   "source": [
    "Archer decided to put his money into gold, water, and keep a bit left as available captial. \n",
    "\n",
    "Now, we can choose to buy stocks by either specifying the number of shares or the dollar amount. This is driven by the variable <b>isShares</b>, which defaults to number of shares. For now, we will split Archer's portfolio out by dollar amount, with 40k going to GOLD, 40k going to AWK, and 20k remaining as capital."
   ]
  },
  {
   "cell_type": "code",
   "execution_count": 9,
   "metadata": {},
   "outputs": [
    {
     "name": "stdout",
     "output_type": "stream",
     "text": [
      "1340.48 shares of GOLD were purchased for $40000\n"
     ]
    }
   ],
   "source": [
    "Archer.buy('GOLD', 40000, isShares=0)"
   ]
  },
  {
   "cell_type": "code",
   "execution_count": 10,
   "metadata": {},
   "outputs": [
    {
     "name": "stdout",
     "output_type": "stream",
     "text": [
      "272.17 shares of AWK were purchased for $40000\n"
     ]
    }
   ],
   "source": [
    "Archer.buy('AWK', 40000, isShares=0)"
   ]
  },
  {
   "cell_type": "markdown",
   "metadata": {},
   "source": [
    "We can see Archer's current stock holdings and capital with the <b>shares</b> and <b>capital</b> variables:"
   ]
  },
  {
   "cell_type": "code",
   "execution_count": 11,
   "metadata": {},
   "outputs": [
    {
     "data": {
      "text/plain": [
       "{'GOLD': 1340.48, 'AWK': 272.17}"
      ]
     },
     "execution_count": 11,
     "metadata": {},
     "output_type": "execute_result"
    }
   ],
   "source": [
    "Archer.shares"
   ]
  },
  {
   "cell_type": "code",
   "execution_count": 12,
   "metadata": {},
   "outputs": [
    {
     "data": {
      "text/plain": [
       "20000"
      ]
     },
     "execution_count": 12,
     "metadata": {},
     "output_type": "execute_result"
    }
   ],
   "source": [
    "Archer.capital"
   ]
  },
  {
   "cell_type": "markdown",
   "metadata": {},
   "source": [
    "Additionally, you can see a history of Archer's transactions with the function <b>getLedger</b>, which returns a list of transactions in the form of a Pandas DataFrame:"
   ]
  },
  {
   "cell_type": "code",
   "execution_count": 13,
   "metadata": {},
   "outputs": [
    {
     "data": {
      "text/html": [
       "<div>\n",
       "<style scoped>\n",
       "    .dataframe tbody tr th:only-of-type {\n",
       "        vertical-align: middle;\n",
       "    }\n",
       "\n",
       "    .dataframe tbody tr th {\n",
       "        vertical-align: top;\n",
       "    }\n",
       "\n",
       "    .dataframe thead th {\n",
       "        text-align: right;\n",
       "    }\n",
       "</style>\n",
       "<table border=\"1\" class=\"dataframe\">\n",
       "  <thead>\n",
       "    <tr style=\"text-align: right;\">\n",
       "      <th></th>\n",
       "      <th>date</th>\n",
       "      <th>action</th>\n",
       "      <th>symbol</th>\n",
       "      <th>Δshares</th>\n",
       "      <th>Δdollars</th>\n",
       "      <th>capital</th>\n",
       "    </tr>\n",
       "  </thead>\n",
       "  <tbody>\n",
       "    <tr>\n",
       "      <th>0</th>\n",
       "      <td>2020-08-05 18:30:00</td>\n",
       "      <td>buy</td>\n",
       "      <td>GOLD</td>\n",
       "      <td>1340.48</td>\n",
       "      <td>-40000</td>\n",
       "      <td>60000</td>\n",
       "    </tr>\n",
       "    <tr>\n",
       "      <th>1</th>\n",
       "      <td>2020-07-31 12:00:00</td>\n",
       "      <td>buy</td>\n",
       "      <td>AWK</td>\n",
       "      <td>272.17</td>\n",
       "      <td>-40000</td>\n",
       "      <td>20000</td>\n",
       "    </tr>\n",
       "  </tbody>\n",
       "</table>\n",
       "</div>"
      ],
      "text/plain": [
       "                  date action symbol  Δshares  Δdollars  capital\n",
       "0  2020-08-05 18:30:00    buy   GOLD  1340.48    -40000    60000\n",
       "1  2020-07-31 12:00:00    buy    AWK   272.17    -40000    20000"
      ]
     },
     "execution_count": 13,
     "metadata": {},
     "output_type": "execute_result"
    }
   ],
   "source": [
    "Archer.getLedger()"
   ]
  },
  {
   "cell_type": "markdown",
   "metadata": {},
   "source": [
    "On thing you might notice is that the dates are different in the ledger above, even though we bought the stock at the same time. This is because when we called the <b>buy</b> function, <u>we did not specify a date</u>. If no date is specified, the stock is purchased at the open price of the first point in the dataset. Our two stocks have a different first entry in their datasets, so the dates are different in the ledger."
   ]
  },
  {
   "cell_type": "markdown",
   "metadata": {},
   "source": [
    "## Selling shares"
   ]
  },
  {
   "cell_type": "markdown",
   "metadata": {},
   "source": [
    "Now, Mr. Archer is getting a little impatient and would like his shares liquidated so that we can go buy a bunch of sand to rub in Woodhouse's eyes. What kind of sand, you ask? Coarse.]]\n",
    "\n",
    "We can get rid of Sterling's stock with the <b>sell</b> function. In the sell function, you can specify the stock you want to sell, the amount in shares or dollars, and the index/date/time in which to sell. If you don't put an amount all holdings are sold and if you don't put in an index the last one is used."
   ]
  },
  {
   "cell_type": "code",
   "execution_count": 14,
   "metadata": {},
   "outputs": [
    {
     "name": "stdout",
     "output_type": "stream",
     "text": [
      "No value entered, all shares will be sold\n",
      "1340.48 shares of GOLD were sold for $38632.63\n"
     ]
    }
   ],
   "source": [
    "Archer.sell('GOLD')"
   ]
  },
  {
   "cell_type": "code",
   "execution_count": 15,
   "metadata": {},
   "outputs": [
    {
     "name": "stdout",
     "output_type": "stream",
     "text": [
      "No value entered, all shares will be sold\n",
      "272.17 shares of AWK were sold for $40583.27\n"
     ]
    }
   ],
   "source": [
    "Archer.sell('AWK')"
   ]
  },
  {
   "cell_type": "code",
   "execution_count": 16,
   "metadata": {},
   "outputs": [
    {
     "data": {
      "text/plain": [
       "99215.9"
      ]
     },
     "execution_count": 16,
     "metadata": {},
     "output_type": "execute_result"
    }
   ],
   "source": [
    "Archer.capital"
   ]
  },
  {
   "cell_type": "code",
   "execution_count": 17,
   "metadata": {},
   "outputs": [
    {
     "data": {
      "text/html": [
       "<div>\n",
       "<style scoped>\n",
       "    .dataframe tbody tr th:only-of-type {\n",
       "        vertical-align: middle;\n",
       "    }\n",
       "\n",
       "    .dataframe tbody tr th {\n",
       "        vertical-align: top;\n",
       "    }\n",
       "\n",
       "    .dataframe thead th {\n",
       "        text-align: right;\n",
       "    }\n",
       "</style>\n",
       "<table border=\"1\" class=\"dataframe\">\n",
       "  <thead>\n",
       "    <tr style=\"text-align: right;\">\n",
       "      <th></th>\n",
       "      <th>date</th>\n",
       "      <th>action</th>\n",
       "      <th>symbol</th>\n",
       "      <th>Δshares</th>\n",
       "      <th>Δdollars</th>\n",
       "      <th>capital</th>\n",
       "    </tr>\n",
       "  </thead>\n",
       "  <tbody>\n",
       "    <tr>\n",
       "      <th>0</th>\n",
       "      <td>2020-08-05 18:30:00</td>\n",
       "      <td>buy</td>\n",
       "      <td>GOLD</td>\n",
       "      <td>1340.48</td>\n",
       "      <td>-40000.00</td>\n",
       "      <td>60000.00</td>\n",
       "    </tr>\n",
       "    <tr>\n",
       "      <th>1</th>\n",
       "      <td>2020-07-31 12:00:00</td>\n",
       "      <td>buy</td>\n",
       "      <td>AWK</td>\n",
       "      <td>272.17</td>\n",
       "      <td>-40000.00</td>\n",
       "      <td>20000.00</td>\n",
       "    </tr>\n",
       "    <tr>\n",
       "      <th>2</th>\n",
       "      <td>2020-08-10 19:30:00</td>\n",
       "      <td>sell</td>\n",
       "      <td>GOLD</td>\n",
       "      <td>-1340.48</td>\n",
       "      <td>38632.63</td>\n",
       "      <td>58632.63</td>\n",
       "    </tr>\n",
       "    <tr>\n",
       "      <th>3</th>\n",
       "      <td>2020-08-10 16:00:00</td>\n",
       "      <td>sell</td>\n",
       "      <td>AWK</td>\n",
       "      <td>-272.17</td>\n",
       "      <td>40583.27</td>\n",
       "      <td>99215.90</td>\n",
       "    </tr>\n",
       "  </tbody>\n",
       "</table>\n",
       "</div>"
      ],
      "text/plain": [
       "                  date action symbol  Δshares  Δdollars   capital\n",
       "0  2020-08-05 18:30:00    buy   GOLD  1340.48 -40000.00  60000.00\n",
       "1  2020-07-31 12:00:00    buy    AWK   272.17 -40000.00  20000.00\n",
       "2  2020-08-10 19:30:00   sell   GOLD -1340.48  38632.63  58632.63\n",
       "3  2020-08-10 16:00:00   sell    AWK  -272.17  40583.27  99215.90"
      ]
     },
     "execution_count": 17,
     "metadata": {},
     "output_type": "execute_result"
    }
   ],
   "source": [
    "Archer.getLedger()"
   ]
  },
  {
   "cell_type": "code",
   "execution_count": 20,
   "metadata": {},
   "outputs": [
    {
     "name": "stdout",
     "output_type": "stream",
     "text": [
      "Archer lost money. What an asshole.\n"
     ]
    }
   ],
   "source": [
    "if Archer.capital > 100000:\n",
    "    print('Wow, the world\\'s greatest spy made a profit! What a surprise...')\n",
    "else:\n",
    "    print('Archer lost money. What an asshole.')"
   ]
  },
  {
   "cell_type": "markdown",
   "metadata": {},
   "source": [
    "## Come back next time for instructions on how to use this framework to implement an algorithm!"
   ]
  }
 ],
 "metadata": {
  "kernelspec": {
   "display_name": "Python 3",
   "language": "python",
   "name": "python3"
  },
  "language_info": {
   "codemirror_mode": {
    "name": "ipython",
    "version": 3
   },
   "file_extension": ".py",
   "mimetype": "text/x-python",
   "name": "python",
   "nbconvert_exporter": "python",
   "pygments_lexer": "ipython3",
   "version": "3.6.6"
  }
 },
 "nbformat": 4,
 "nbformat_minor": 2
}
