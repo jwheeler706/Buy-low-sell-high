{
 "cells": [
  {
   "cell_type": "markdown",
   "metadata": {},
   "source": [
    "<h1 align='center'> Buy low, sell high - a walkthrough </h1>"
   ]
  },
  {
   "cell_type": "markdown",
   "metadata": {},
   "source": [
    "Why hello there! Ready to make a shitload of money on the stock market? Good. Here is how you do it."
   ]
  },
  {
   "cell_type": "markdown",
   "metadata": {},
   "source": [
    "## The Classes"
   ]
  },
  {
   "cell_type": "markdown",
   "metadata": {},
   "source": [
    "This framework is made up of two classes of Python objects: Portfolios and Stocks. \n",
    "\n",
    "- A <b>Portfolio</b> object is defined by its capital and Stocks. \n",
    "  - Capital can be used to purchase shares of a Stock object and Stock shares can be sold for capital. \n",
    "  - Portfolio objects contain a ledger that records details from each transactions.\n",
    "- A <b>Stock</b> object is defined by its ticker symbol. \n",
    "  - When a stock is added to a portfolio, an instance of a AlphaVantage TimeSeries object is created and both daily and intradaily data is gathered.\n",
    "  - The gathered data contains the open, close, high, and low values per share and the total trade volume and is used to define the buy and sell prices for a Stock at a particular time."
   ]
  },
  {
   "cell_type": "markdown",
   "metadata": {},
   "source": [
    "## Examining the data"
   ]
  },
  {
   "cell_type": "markdown",
   "metadata": {},
   "source": [
    "Before we dive into buying and selling stock, let's take a minute to understand the data the we are using. Each Stock object comes with a large amount of data that can be manipulated and aggregated at different intervals, so let's explore a little bit!"
   ]
  },
  {
   "cell_type": "markdown",
   "metadata": {},
   "source": [
    "In order to start creating objects and calling functions, we need to import the classes from the python file."
   ]
  },
  {
   "cell_type": "code",
   "execution_count": 1,
   "metadata": {},
   "outputs": [],
   "source": [
    "from classes import *"
   ]
  },
  {
   "cell_type": "markdown",
   "metadata": {},
   "source": [
    "Let's create a Stock object and gather it's data. Normally, this will happen behind the scenes when a Stock is added to a Portfolio, but let's go through the details here."
   ]
  },
  {
   "cell_type": "code",
   "execution_count": 2,
   "metadata": {},
   "outputs": [],
   "source": [
    "Google = Stock('GOOGL')\n",
    "Google.gatherDaily()\n",
    "Google.gatherIntra()"
   ]
  },
  {
   "cell_type": "markdown",
   "metadata": {},
   "source": [
    "Both of the gather functions have parameters that can be adjusted. Calling the function with no parameters will use the defaults.\n",
    "\n",
    "- <b>gatherDaily(outputsize)</b>: Returns a Pandas DataFrame with open, close, high, low, and trade volume across days\n",
    "   - <b>outputsize</b> defines how much data is returned: \"compact\" (default) returns the last 100 datapoints, \"full\" returns all available data\n",
    "- <b>gatherIntra(interval, outputsize)</b>: Returns a Pandas DataFrame with open, close, high, low data, and trade volume within a day at the given interval\n",
    "   - <b>interval</b> defines time difference between datapoints: '1min', '5min', '15min', '30min' (default), '60min'\n",
    "   - <b>outputsize</b> defines how much data is returned: \"compact\" (default) returns the last 100 datapoints, \"full\" returns all available data"
   ]
  },
  {
   "cell_type": "markdown",
   "metadata": {},
   "source": [
    "These DataFrames are stored as variables on the Stock object:"
   ]
  },
  {
   "cell_type": "code",
   "execution_count": 3,
   "metadata": {},
   "outputs": [
    {
     "data": {
      "text/html": [
       "<div>\n",
       "<style scoped>\n",
       "    .dataframe tbody tr th:only-of-type {\n",
       "        vertical-align: middle;\n",
       "    }\n",
       "\n",
       "    .dataframe tbody tr th {\n",
       "        vertical-align: top;\n",
       "    }\n",
       "\n",
       "    .dataframe thead th {\n",
       "        text-align: right;\n",
       "    }\n",
       "</style>\n",
       "<table border=\"1\" class=\"dataframe\">\n",
       "  <thead>\n",
       "    <tr style=\"text-align: right;\">\n",
       "      <th></th>\n",
       "      <th>1. open</th>\n",
       "      <th>2. high</th>\n",
       "      <th>3. low</th>\n",
       "      <th>4. close</th>\n",
       "      <th>5. volume</th>\n",
       "    </tr>\n",
       "    <tr>\n",
       "      <th>date</th>\n",
       "      <th></th>\n",
       "      <th></th>\n",
       "      <th></th>\n",
       "      <th></th>\n",
       "      <th></th>\n",
       "    </tr>\n",
       "  </thead>\n",
       "  <tbody>\n",
       "    <tr>\n",
       "      <th>2020-03-13</th>\n",
       "      <td>1174.99</td>\n",
       "      <td>1214.40</td>\n",
       "      <td>1112.29</td>\n",
       "      <td>1214.27</td>\n",
       "      <td>3969973.0</td>\n",
       "    </tr>\n",
       "    <tr>\n",
       "      <th>2020-03-16</th>\n",
       "      <td>1089.61</td>\n",
       "      <td>1145.47</td>\n",
       "      <td>1067.08</td>\n",
       "      <td>1073.00</td>\n",
       "      <td>4825981.0</td>\n",
       "    </tr>\n",
       "    <tr>\n",
       "      <th>2020-03-17</th>\n",
       "      <td>1090.64</td>\n",
       "      <td>1126.00</td>\n",
       "      <td>1049.10</td>\n",
       "      <td>1118.06</td>\n",
       "      <td>4159686.0</td>\n",
       "    </tr>\n",
       "    <tr>\n",
       "      <th>2020-03-18</th>\n",
       "      <td>1059.94</td>\n",
       "      <td>1104.99</td>\n",
       "      <td>1037.00</td>\n",
       "      <td>1091.19</td>\n",
       "      <td>4636840.0</td>\n",
       "    </tr>\n",
       "    <tr>\n",
       "      <th>2020-03-19</th>\n",
       "      <td>1088.22</td>\n",
       "      <td>1152.61</td>\n",
       "      <td>1055.55</td>\n",
       "      <td>1111.67</td>\n",
       "      <td>3703248.0</td>\n",
       "    </tr>\n",
       "  </tbody>\n",
       "</table>\n",
       "</div>"
      ],
      "text/plain": [
       "            1. open  2. high   3. low  4. close  5. volume\n",
       "date                                                      \n",
       "2020-03-13  1174.99  1214.40  1112.29   1214.27  3969973.0\n",
       "2020-03-16  1089.61  1145.47  1067.08   1073.00  4825981.0\n",
       "2020-03-17  1090.64  1126.00  1049.10   1118.06  4159686.0\n",
       "2020-03-18  1059.94  1104.99  1037.00   1091.19  4636840.0\n",
       "2020-03-19  1088.22  1152.61  1055.55   1111.67  3703248.0"
      ]
     },
     "execution_count": 3,
     "metadata": {},
     "output_type": "execute_result"
    }
   ],
   "source": [
    "Google.daily.head()"
   ]
  },
  {
   "cell_type": "code",
   "execution_count": 4,
   "metadata": {},
   "outputs": [
    {
     "data": {
      "text/html": [
       "<div>\n",
       "<style scoped>\n",
       "    .dataframe tbody tr th:only-of-type {\n",
       "        vertical-align: middle;\n",
       "    }\n",
       "\n",
       "    .dataframe tbody tr th {\n",
       "        vertical-align: top;\n",
       "    }\n",
       "\n",
       "    .dataframe thead th {\n",
       "        text-align: right;\n",
       "    }\n",
       "</style>\n",
       "<table border=\"1\" class=\"dataframe\">\n",
       "  <thead>\n",
       "    <tr style=\"text-align: right;\">\n",
       "      <th></th>\n",
       "      <th>1. open</th>\n",
       "      <th>2. high</th>\n",
       "      <th>3. low</th>\n",
       "      <th>4. close</th>\n",
       "      <th>5. volume</th>\n",
       "    </tr>\n",
       "    <tr>\n",
       "      <th>date</th>\n",
       "      <th></th>\n",
       "      <th></th>\n",
       "      <th></th>\n",
       "      <th></th>\n",
       "      <th></th>\n",
       "    </tr>\n",
       "  </thead>\n",
       "  <tbody>\n",
       "    <tr>\n",
       "      <th>2020-07-28 15:30:00</th>\n",
       "      <td>1515.29</td>\n",
       "      <td>1515.7750</td>\n",
       "      <td>1506.525</td>\n",
       "      <td>1508.99</td>\n",
       "      <td>81177.0</td>\n",
       "    </tr>\n",
       "    <tr>\n",
       "      <th>2020-07-28 16:00:00</th>\n",
       "      <td>1508.47</td>\n",
       "      <td>1509.3200</td>\n",
       "      <td>1500.520</td>\n",
       "      <td>1504.60</td>\n",
       "      <td>208483.0</td>\n",
       "    </tr>\n",
       "    <tr>\n",
       "      <th>2020-07-28 16:30:00</th>\n",
       "      <td>1503.65</td>\n",
       "      <td>1510.9145</td>\n",
       "      <td>1503.650</td>\n",
       "      <td>1504.02</td>\n",
       "      <td>168435.0</td>\n",
       "    </tr>\n",
       "    <tr>\n",
       "      <th>2020-07-28 18:30:00</th>\n",
       "      <td>1504.01</td>\n",
       "      <td>1504.0100</td>\n",
       "      <td>1504.010</td>\n",
       "      <td>1504.01</td>\n",
       "      <td>360.0</td>\n",
       "    </tr>\n",
       "    <tr>\n",
       "      <th>2020-07-29 09:30:00</th>\n",
       "      <td>1503.65</td>\n",
       "      <td>1507.2900</td>\n",
       "      <td>1503.650</td>\n",
       "      <td>1507.29</td>\n",
       "      <td>13238.0</td>\n",
       "    </tr>\n",
       "  </tbody>\n",
       "</table>\n",
       "</div>"
      ],
      "text/plain": [
       "                     1. open    2. high    3. low  4. close  5. volume\n",
       "date                                                                  \n",
       "2020-07-28 15:30:00  1515.29  1515.7750  1506.525   1508.99    81177.0\n",
       "2020-07-28 16:00:00  1508.47  1509.3200  1500.520   1504.60   208483.0\n",
       "2020-07-28 16:30:00  1503.65  1510.9145  1503.650   1504.02   168435.0\n",
       "2020-07-28 18:30:00  1504.01  1504.0100  1504.010   1504.01      360.0\n",
       "2020-07-29 09:30:00  1503.65  1507.2900  1503.650   1507.29    13238.0"
      ]
     },
     "execution_count": 4,
     "metadata": {},
     "output_type": "execute_result"
    }
   ],
   "source": [
    "Google.intra.head()"
   ]
  },
  {
   "cell_type": "markdown",
   "metadata": {},
   "source": [
    "These DataFrames are used to determine the buy/sell prices at a particular time, among other things. Each Stock has functions <b>buyPrice</b> and <b>sellPrice</b> that will return the price for a given index. You can pass in an integer index (e.g., 0 for the first line in the daily dataset) or an actual date/time (e.g. '2020-07-28 15:30:00 for the first line in the intra dataset). \n",
    "\n",
    "The value returned is <u>the open price for the next index in the dataframe</u>."
   ]
  },
  {
   "cell_type": "code",
   "execution_count": 5,
   "metadata": {},
   "outputs": [
    {
     "data": {
      "text/plain": [
       "1089.61"
      ]
     },
     "execution_count": 5,
     "metadata": {},
     "output_type": "execute_result"
    }
   ],
   "source": [
    "Google.sellPrice(0, isDate=0, isDaily=1)"
   ]
  },
  {
   "cell_type": "code",
   "execution_count": 6,
   "metadata": {},
   "outputs": [
    {
     "data": {
      "text/plain": [
       "1508.47"
      ]
     },
     "execution_count": 6,
     "metadata": {},
     "output_type": "execute_result"
    }
   ],
   "source": [
    "Google.buyPrice('2020-07-28 15:30:00', isDate=1, isDaily=0)"
   ]
  },
  {
   "cell_type": "markdown",
   "metadata": {},
   "source": [
    "There is a similar function for trade volume:"
   ]
  },
  {
   "cell_type": "code",
   "execution_count": 7,
   "metadata": {},
   "outputs": [
    {
     "data": {
      "text/plain": [
       "360.0"
      ]
     },
     "execution_count": 7,
     "metadata": {},
     "output_type": "execute_result"
    }
   ],
   "source": [
    "Google.volume(3, isDate=0, isDaily=0)"
   ]
  },
  {
   "cell_type": "markdown",
   "metadata": {},
   "source": [
    "## Creating a portfolio and buying stock"
   ]
  },
  {
   "cell_type": "markdown",
   "metadata": {},
   "source": [
    "Okay, now that we have an understanding of what we're working with, let's get started. \n",
    "\n",
    "The first thing we will need to do is create an instance of a Portfolio. I've been watching a bunch of Archer lately, so let's set Sterling up with a new portfolio using the $100k his mommy gave him."
   ]
  },
  {
   "cell_type": "code",
   "execution_count": 8,
   "metadata": {},
   "outputs": [],
   "source": [
    "Archer = Portfolio(100000)"
   ]
  },
  {
   "cell_type": "markdown",
   "metadata": {},
   "source": [
    "Now that we have a portfolio, we can buy some stock! \n",
    "\n",
    "Sterling would love to pour his money into his favorite things: booze and hookers. Thankfully, we were able to satisfy his urges and convince him otherwise by using Woodhouse's smack needles to inject 8 gils of liquor right into his veins and finding the cheapiest, dirtiest whore we could find off of the street. I'm talking Frank Reynolds level dirty whore. But I digress..."
   ]
  },
  {
   "cell_type": "markdown",
   "metadata": {},
   "source": [
    "Archer decided to put his money into gold, water, and keep a bit left as available captial. \n",
    "\n",
    "Now, we can choose to buy stocks by either specifying the number of shares or the dollar amount. This is driven by the variable <b>isShares</b>, which defaults to number of shares. For now, we will split Archer's portfolio out by dollar amount, with 40k going to GOLD, 40k going to AWK, and 20k remaining as capital."
   ]
  },
  {
   "cell_type": "code",
   "execution_count": 9,
   "metadata": {},
   "outputs": [
    {
     "name": "stdout",
     "output_type": "stream",
     "text": [
      "1383.6 shares of GOLD were purchased for $40000\n"
     ]
    }
   ],
   "source": [
    "Archer.buy('GOLD', 40000, isShares=0)"
   ]
  },
  {
   "cell_type": "code",
   "execution_count": 13,
   "metadata": {},
   "outputs": [
    {
     "name": "stdout",
     "output_type": "stream",
     "text": [
      "277.24 shares of AWK were purchased for $40000\n"
     ]
    }
   ],
   "source": [
    "Archer.buy('AWK', 40000, isShares=0)"
   ]
  },
  {
   "cell_type": "markdown",
   "metadata": {},
   "source": [
    "We can see Archer's current stock holdings and capital with the <b>shares</b> and <b>capital</b> variables:"
   ]
  },
  {
   "cell_type": "code",
   "execution_count": 14,
   "metadata": {},
   "outputs": [
    {
     "data": {
      "text/plain": [
       "{'GOLD': 1383.6, 'AWK': 277.24}"
      ]
     },
     "execution_count": 14,
     "metadata": {},
     "output_type": "execute_result"
    }
   ],
   "source": [
    "Archer.shares"
   ]
  },
  {
   "cell_type": "code",
   "execution_count": 15,
   "metadata": {},
   "outputs": [
    {
     "data": {
      "text/plain": [
       "20000"
      ]
     },
     "execution_count": 15,
     "metadata": {},
     "output_type": "execute_result"
    }
   ],
   "source": [
    "Archer.capital"
   ]
  },
  {
   "cell_type": "markdown",
   "metadata": {},
   "source": [
    "Additionally, you can see a history of Archer's transactions with the function <b>getLedger</b>, which returns a list of transactions in the form of a Pandas DataFrame:"
   ]
  },
  {
   "cell_type": "code",
   "execution_count": 16,
   "metadata": {},
   "outputs": [
    {
     "data": {
      "text/html": [
       "<div>\n",
       "<style scoped>\n",
       "    .dataframe tbody tr th:only-of-type {\n",
       "        vertical-align: middle;\n",
       "    }\n",
       "\n",
       "    .dataframe tbody tr th {\n",
       "        vertical-align: top;\n",
       "    }\n",
       "\n",
       "    .dataframe thead th {\n",
       "        text-align: right;\n",
       "    }\n",
       "</style>\n",
       "<table border=\"1\" class=\"dataframe\">\n",
       "  <thead>\n",
       "    <tr style=\"text-align: right;\">\n",
       "      <th></th>\n",
       "      <th>date</th>\n",
       "      <th>action</th>\n",
       "      <th>symbol</th>\n",
       "      <th>Δshares</th>\n",
       "      <th>Δdollars</th>\n",
       "      <th>capital</th>\n",
       "    </tr>\n",
       "  </thead>\n",
       "  <tbody>\n",
       "    <tr>\n",
       "      <th>0</th>\n",
       "      <td>2020-07-29 18:00:00</td>\n",
       "      <td>buy</td>\n",
       "      <td>GOLD</td>\n",
       "      <td>1383.60</td>\n",
       "      <td>-40000</td>\n",
       "      <td>60000</td>\n",
       "    </tr>\n",
       "    <tr>\n",
       "      <th>1</th>\n",
       "      <td>2020-07-24 15:00:00</td>\n",
       "      <td>buy</td>\n",
       "      <td>AWK</td>\n",
       "      <td>277.24</td>\n",
       "      <td>-40000</td>\n",
       "      <td>20000</td>\n",
       "    </tr>\n",
       "  </tbody>\n",
       "</table>\n",
       "</div>"
      ],
      "text/plain": [
       "                  date action symbol  Δshares  Δdollars  capital\n",
       "0  2020-07-29 18:00:00    buy   GOLD  1383.60    -40000    60000\n",
       "1  2020-07-24 15:00:00    buy    AWK   277.24    -40000    20000"
      ]
     },
     "execution_count": 16,
     "metadata": {},
     "output_type": "execute_result"
    }
   ],
   "source": [
    "Archer.getLedger()"
   ]
  },
  {
   "cell_type": "markdown",
   "metadata": {},
   "source": [
    "On thing you might notice is that the dates are different in the ledger above, even though we bought the stock at the same time. This is because when we called the <b>buy</b> function, <u>we did not specify a date</u>. If no date is specified, the stock is purchased at the open price of the first point in the dataset. Our two stocks have a different first entry in their datasets, so the dates are different in the ledger."
   ]
  },
  {
   "cell_type": "markdown",
   "metadata": {},
   "source": [
    "## Selling shares"
   ]
  },
  {
   "cell_type": "markdown",
   "metadata": {},
   "source": [
    "Now, Mr. Archer is getting a little impatient and would like his shares liquidated so that we can go buy a bunch of sand to rub in Woodhouse's eyes. What kind of sand, you ask? Coarse.]]\n",
    "\n",
    "We can get rid of Sterling's stock with the <b>sell</b> function. In the sell function, you can specify the stock you want to sell, the amount in shares or dollars, and the index/date/time in which to sell. If you don't put an amount all holdings are sold and if you don't put in an index the last one is used."
   ]
  },
  {
   "cell_type": "code",
   "execution_count": 17,
   "metadata": {},
   "outputs": [
    {
     "name": "stdout",
     "output_type": "stream",
     "text": [
      "No value entered, all shares will be sold\n",
      "1383.6 shares of GOLD were sold for $39695.48\n"
     ]
    }
   ],
   "source": [
    "Archer.sell('GOLD')"
   ]
  },
  {
   "cell_type": "code",
   "execution_count": 18,
   "metadata": {},
   "outputs": [
    {
     "name": "stdout",
     "output_type": "stream",
     "text": [
      "No value entered, all shares will be sold\n",
      "277.24 shares of AWK were sold for $40770.91\n"
     ]
    }
   ],
   "source": [
    "Archer.sell('AWK')"
   ]
  },
  {
   "cell_type": "code",
   "execution_count": 19,
   "metadata": {},
   "outputs": [
    {
     "data": {
      "text/plain": [
       "100466.39000000001"
      ]
     },
     "execution_count": 19,
     "metadata": {},
     "output_type": "execute_result"
    }
   ],
   "source": [
    "Archer.capital"
   ]
  },
  {
   "cell_type": "code",
   "execution_count": 20,
   "metadata": {},
   "outputs": [
    {
     "data": {
      "text/html": [
       "<div>\n",
       "<style scoped>\n",
       "    .dataframe tbody tr th:only-of-type {\n",
       "        vertical-align: middle;\n",
       "    }\n",
       "\n",
       "    .dataframe tbody tr th {\n",
       "        vertical-align: top;\n",
       "    }\n",
       "\n",
       "    .dataframe thead th {\n",
       "        text-align: right;\n",
       "    }\n",
       "</style>\n",
       "<table border=\"1\" class=\"dataframe\">\n",
       "  <thead>\n",
       "    <tr style=\"text-align: right;\">\n",
       "      <th></th>\n",
       "      <th>date</th>\n",
       "      <th>action</th>\n",
       "      <th>symbol</th>\n",
       "      <th>Δshares</th>\n",
       "      <th>Δdollars</th>\n",
       "      <th>capital</th>\n",
       "    </tr>\n",
       "  </thead>\n",
       "  <tbody>\n",
       "    <tr>\n",
       "      <th>0</th>\n",
       "      <td>2020-07-29 18:00:00</td>\n",
       "      <td>buy</td>\n",
       "      <td>GOLD</td>\n",
       "      <td>1383.60</td>\n",
       "      <td>-40000.00</td>\n",
       "      <td>60000.00</td>\n",
       "    </tr>\n",
       "    <tr>\n",
       "      <th>1</th>\n",
       "      <td>2020-07-24 15:00:00</td>\n",
       "      <td>buy</td>\n",
       "      <td>AWK</td>\n",
       "      <td>277.24</td>\n",
       "      <td>-40000.00</td>\n",
       "      <td>20000.00</td>\n",
       "    </tr>\n",
       "    <tr>\n",
       "      <th>2</th>\n",
       "      <td>2020-08-03 19:30:00</td>\n",
       "      <td>sell</td>\n",
       "      <td>GOLD</td>\n",
       "      <td>-1383.60</td>\n",
       "      <td>39695.48</td>\n",
       "      <td>59695.48</td>\n",
       "    </tr>\n",
       "    <tr>\n",
       "      <th>3</th>\n",
       "      <td>2020-08-03 16:30:00</td>\n",
       "      <td>sell</td>\n",
       "      <td>AWK</td>\n",
       "      <td>-277.24</td>\n",
       "      <td>40770.91</td>\n",
       "      <td>100466.39</td>\n",
       "    </tr>\n",
       "  </tbody>\n",
       "</table>\n",
       "</div>"
      ],
      "text/plain": [
       "                  date action symbol  Δshares  Δdollars    capital\n",
       "0  2020-07-29 18:00:00    buy   GOLD  1383.60 -40000.00   60000.00\n",
       "1  2020-07-24 15:00:00    buy    AWK   277.24 -40000.00   20000.00\n",
       "2  2020-08-03 19:30:00   sell   GOLD -1383.60  39695.48   59695.48\n",
       "3  2020-08-03 16:30:00   sell    AWK  -277.24  40770.91  100466.39"
      ]
     },
     "execution_count": 20,
     "metadata": {},
     "output_type": "execute_result"
    }
   ],
   "source": [
    "Archer.getLedger()"
   ]
  },
  {
   "cell_type": "markdown",
   "metadata": {},
   "source": [
    "So, we can see that our superagent spy actually made money! What a surprise..."
   ]
  },
  {
   "cell_type": "markdown",
   "metadata": {},
   "source": [
    "## Come back next time for instructions on how to use this framework to implement an algorithm!"
   ]
  }
 ],
 "metadata": {
  "kernelspec": {
   "display_name": "Python 3",
   "language": "python",
   "name": "python3"
  },
  "language_info": {
   "codemirror_mode": {
    "name": "ipython",
    "version": 3
   },
   "file_extension": ".py",
   "mimetype": "text/x-python",
   "name": "python",
   "nbconvert_exporter": "python",
   "pygments_lexer": "ipython3",
   "version": "3.6.6"
  }
 },
 "nbformat": 4,
 "nbformat_minor": 2
}
